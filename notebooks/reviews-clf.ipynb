{
 "cells": [
  {
   "cell_type": "code",
   "execution_count": 1,
   "metadata": {
    "executionInfo": {
     "elapsed": 524,
     "status": "ok",
     "timestamp": 1673893517634,
     "user": {
      "displayName": "Maximiliano Agustin Ulibarrie",
      "userId": "09860801345218377237"
     },
     "user_tz": 180
    },
    "id": "c_nsbF2SMJ4R"
   },
   "outputs": [],
   "source": [
    "from transformers import BertModel, BertTokenizer, AdamW, get_linear_schedule_with_warmup, BertConfig\n",
    "import torch\n",
    "import numpy as np\n",
    "from sklearn.model_selection import train_test_split\n",
    "from torch import nn, optim\n",
    "from torch.utils.data import Dataset, DataLoader\n",
    "import pandas as pd\n",
    "from textwrap import wrap\n",
    "import re\n",
    "import time\n",
    "import warnings\n",
    "import matplotlib.pyplot as plt\n",
    "from tqdm import tqdm\n",
    "warnings.filterwarnings(\"ignore\")"
   ]
  },
  {
   "cell_type": "markdown",
   "metadata": {
    "id": "iakpT4lSOC4I"
   },
   "source": [
    "# Retrive data and exploring"
   ]
  },
  {
   "cell_type": "code",
   "execution_count": 2,
   "metadata": {},
   "outputs": [
    {
     "name": "stdout",
     "output_type": "stream",
     "text": [
      "IMDB-Dataset-SPANISH.csv  data-info.txt\r\n"
     ]
    }
   ],
   "source": [
    "! ls ../data"
   ]
  },
  {
   "cell_type": "code",
   "execution_count": 3,
   "metadata": {
    "executionInfo": {
     "elapsed": 5,
     "status": "ok",
     "timestamp": 1673893520049,
     "user": {
      "displayName": "Maximiliano Agustin Ulibarrie",
      "userId": "09860801345218377237"
     },
     "user_tz": 180
    },
    "id": "_EatrPNA-Cmr",
    "scrolled": true
   },
   "outputs": [
    {
     "data": {
      "text/html": [
       "<div>\n",
       "<style scoped>\n",
       "    .dataframe tbody tr th:only-of-type {\n",
       "        vertical-align: middle;\n",
       "    }\n",
       "\n",
       "    .dataframe tbody tr th {\n",
       "        vertical-align: top;\n",
       "    }\n",
       "\n",
       "    .dataframe thead th {\n",
       "        text-align: right;\n",
       "    }\n",
       "</style>\n",
       "<table border=\"1\" class=\"dataframe\">\n",
       "  <thead>\n",
       "    <tr style=\"text-align: right;\">\n",
       "      <th></th>\n",
       "      <th>Unnamed: 0</th>\n",
       "      <th>review_en</th>\n",
       "      <th>review_es</th>\n",
       "      <th>sentiment</th>\n",
       "      <th>sentimiento</th>\n",
       "    </tr>\n",
       "  </thead>\n",
       "  <tbody>\n",
       "    <tr>\n",
       "      <th>0</th>\n",
       "      <td>0</td>\n",
       "      <td>One of the other reviewers has mentioned that ...</td>\n",
       "      <td>Uno de los otros críticos ha mencionado que de...</td>\n",
       "      <td>positive</td>\n",
       "      <td>positivo</td>\n",
       "    </tr>\n",
       "    <tr>\n",
       "      <th>1</th>\n",
       "      <td>1</td>\n",
       "      <td>A wonderful little production. The filming tec...</td>\n",
       "      <td>Una pequeña pequeña producción.La técnica de f...</td>\n",
       "      <td>positive</td>\n",
       "      <td>positivo</td>\n",
       "    </tr>\n",
       "    <tr>\n",
       "      <th>2</th>\n",
       "      <td>2</td>\n",
       "      <td>I thought this was a wonderful way to spend ti...</td>\n",
       "      <td>Pensé que esta era una manera maravillosa de p...</td>\n",
       "      <td>positive</td>\n",
       "      <td>positivo</td>\n",
       "    </tr>\n",
       "    <tr>\n",
       "      <th>3</th>\n",
       "      <td>3</td>\n",
       "      <td>Basically there's a family where a little boy ...</td>\n",
       "      <td>Básicamente, hay una familia donde un niño peq...</td>\n",
       "      <td>negative</td>\n",
       "      <td>negativo</td>\n",
       "    </tr>\n",
       "    <tr>\n",
       "      <th>4</th>\n",
       "      <td>4</td>\n",
       "      <td>Petter Mattei's \"Love in the Time of Money\" is...</td>\n",
       "      <td>El \"amor en el tiempo\" de Petter Mattei es una...</td>\n",
       "      <td>positive</td>\n",
       "      <td>positivo</td>\n",
       "    </tr>\n",
       "  </tbody>\n",
       "</table>\n",
       "</div>"
      ],
      "text/plain": [
       "   Unnamed: 0                                          review_en  \\\n",
       "0           0  One of the other reviewers has mentioned that ...   \n",
       "1           1  A wonderful little production. The filming tec...   \n",
       "2           2  I thought this was a wonderful way to spend ti...   \n",
       "3           3  Basically there's a family where a little boy ...   \n",
       "4           4  Petter Mattei's \"Love in the Time of Money\" is...   \n",
       "\n",
       "                                           review_es sentiment sentimiento  \n",
       "0  Uno de los otros críticos ha mencionado que de...  positive    positivo  \n",
       "1  Una pequeña pequeña producción.La técnica de f...  positive    positivo  \n",
       "2  Pensé que esta era una manera maravillosa de p...  positive    positivo  \n",
       "3  Básicamente, hay una familia donde un niño peq...  negative    negativo  \n",
       "4  El \"amor en el tiempo\" de Petter Mattei es una...  positive    positivo  "
      ]
     },
     "execution_count": 3,
     "metadata": {},
     "output_type": "execute_result"
    }
   ],
   "source": [
    "df = pd.read_csv('../data/IMDB-Dataset-SPANISH.csv')\n",
    "df.head()"
   ]
  },
  {
   "cell_type": "code",
   "execution_count": 4,
   "metadata": {
    "scrolled": true
   },
   "outputs": [
    {
     "data": {
      "text/plain": [
       "Index(['Unnamed: 0', 'review_en', 'review_es', 'sentiment', 'sentimiento'], dtype='object')"
      ]
     },
     "execution_count": 4,
     "metadata": {},
     "output_type": "execute_result"
    }
   ],
   "source": [
    "df.columns"
   ]
  },
  {
   "cell_type": "code",
   "execution_count": 5,
   "metadata": {},
   "outputs": [
    {
     "data": {
      "text/plain": [
       "9"
      ]
     },
     "execution_count": 5,
     "metadata": {},
     "output_type": "execute_result"
    }
   ],
   "source": [
    "def count_words(st):\n",
    "    return len(re.split(\"[^a-zA-Z0-9]\", st))\n",
    "\n",
    "count_words(\"Esta es una buena pelicula, la mejor.\")"
   ]
  },
  {
   "cell_type": "code",
   "execution_count": 6,
   "metadata": {
    "executionInfo": {
     "elapsed": 2,
     "status": "ok",
     "timestamp": 1673893527192,
     "user": {
      "displayName": "Maximiliano Agustin Ulibarrie",
      "userId": "09860801345218377237"
     },
     "user_tz": 180
    },
    "id": "XSyk6s4sql5r"
   },
   "outputs": [],
   "source": [
    "def get_data_and_clean():\n",
    "    # get data\n",
    "    df = pd.read_csv('../data/IMDB-Dataset-SPANISH.csv')\n",
    "    \n",
    "    # delete not translated data\n",
    "    # Due to there are some review_es that are not translated to spanish\n",
    "    df[\"review_en_norm\"] = df.review_en.apply(lambda x : ''.join(e for e in x if e.isalnum())).apply(lambda x : x.upper())\n",
    "    df[\"review_es_norm\"] = df.review_es.apply(lambda x : ''.join(e for e in x if e.isalnum())).apply(lambda x : x.upper())\n",
    "\n",
    "    df = df.query(\"review_en_norm != review_es_norm\")\n",
    "\n",
    "    # corrections\n",
    "    df = df[[\"review_es\",\"sentimiento\"]]\n",
    "    df = df.rename(columns={\"review_es\": \"review\", \"sentimiento\": \"target\"})\n",
    "\n",
    "    # over summary\n",
    "    df.review = df.review.apply(lambda x : x.upper())\n",
    "    \n",
    "    # over target\n",
    "    df.target = df.target.apply(lambda x : 1 if x == \"positivo\" else 0)\n",
    "    \n",
    "    return df"
   ]
  },
  {
   "cell_type": "code",
   "execution_count": 7,
   "metadata": {
    "executionInfo": {
     "elapsed": 7,
     "status": "ok",
     "timestamp": 1673893531351,
     "user": {
      "displayName": "Maximiliano Agustin Ulibarrie",
      "userId": "09860801345218377237"
     },
     "user_tz": 180
    },
    "id": "B-ihYM0rkirY",
    "scrolled": true
   },
   "outputs": [
    {
     "data": {
      "text/html": [
       "<div>\n",
       "<style scoped>\n",
       "    .dataframe tbody tr th:only-of-type {\n",
       "        vertical-align: middle;\n",
       "    }\n",
       "\n",
       "    .dataframe tbody tr th {\n",
       "        vertical-align: top;\n",
       "    }\n",
       "\n",
       "    .dataframe thead th {\n",
       "        text-align: right;\n",
       "    }\n",
       "</style>\n",
       "<table border=\"1\" class=\"dataframe\">\n",
       "  <thead>\n",
       "    <tr style=\"text-align: right;\">\n",
       "      <th></th>\n",
       "      <th>review</th>\n",
       "      <th>target</th>\n",
       "    </tr>\n",
       "  </thead>\n",
       "  <tbody>\n",
       "    <tr>\n",
       "      <th>0</th>\n",
       "      <td>UNO DE LOS OTROS CRÍTICOS HA MENCIONADO QUE DE...</td>\n",
       "      <td>1</td>\n",
       "    </tr>\n",
       "    <tr>\n",
       "      <th>1</th>\n",
       "      <td>UNA PEQUEÑA PEQUEÑA PRODUCCIÓN.LA TÉCNICA DE F...</td>\n",
       "      <td>1</td>\n",
       "    </tr>\n",
       "    <tr>\n",
       "      <th>2</th>\n",
       "      <td>PENSÉ QUE ESTA ERA UNA MANERA MARAVILLOSA DE P...</td>\n",
       "      <td>1</td>\n",
       "    </tr>\n",
       "    <tr>\n",
       "      <th>3</th>\n",
       "      <td>BÁSICAMENTE, HAY UNA FAMILIA DONDE UN NIÑO PEQ...</td>\n",
       "      <td>0</td>\n",
       "    </tr>\n",
       "    <tr>\n",
       "      <th>4</th>\n",
       "      <td>EL \"AMOR EN EL TIEMPO\" DE PETTER MATTEI ES UNA...</td>\n",
       "      <td>1</td>\n",
       "    </tr>\n",
       "  </tbody>\n",
       "</table>\n",
       "</div>"
      ],
      "text/plain": [
       "                                              review  target\n",
       "0  UNO DE LOS OTROS CRÍTICOS HA MENCIONADO QUE DE...       1\n",
       "1  UNA PEQUEÑA PEQUEÑA PRODUCCIÓN.LA TÉCNICA DE F...       1\n",
       "2  PENSÉ QUE ESTA ERA UNA MANERA MARAVILLOSA DE P...       1\n",
       "3  BÁSICAMENTE, HAY UNA FAMILIA DONDE UN NIÑO PEQ...       0\n",
       "4  EL \"AMOR EN EL TIEMPO\" DE PETTER MATTEI ES UNA...       1"
      ]
     },
     "execution_count": 7,
     "metadata": {},
     "output_type": "execute_result"
    }
   ],
   "source": [
    "df_train = get_data_and_clean()\n",
    "df_train.head()"
   ]
  },
  {
   "cell_type": "code",
   "execution_count": 8,
   "metadata": {
    "colab": {
     "base_uri": "https://localhost:8080/"
    },
    "executionInfo": {
     "elapsed": 606,
     "status": "ok",
     "timestamp": 1673893534564,
     "user": {
      "displayName": "Maximiliano Agustin Ulibarrie",
      "userId": "09860801345218377237"
     },
     "user_tz": 180
    },
    "id": "qwYzMI2OPgSZ",
    "outputId": "089393e5-a7aa-4b75-df9d-f9c04eb8e0e5",
    "scrolled": true
   },
   "outputs": [
    {
     "data": {
      "text/plain": [
       "review    0\n",
       "target    0\n",
       "dtype: int64"
      ]
     },
     "execution_count": 8,
     "metadata": {},
     "output_type": "execute_result"
    }
   ],
   "source": [
    "df_train.isna().sum()"
   ]
  },
  {
   "cell_type": "code",
   "execution_count": 9,
   "metadata": {
    "colab": {
     "base_uri": "https://localhost:8080/"
    },
    "executionInfo": {
     "elapsed": 409,
     "status": "ok",
     "timestamp": 1673893537993,
     "user": {
      "displayName": "Maximiliano Agustin Ulibarrie",
      "userId": "09860801345218377237"
     },
     "user_tz": 180
    },
    "id": "pKtZRJO4_RRK",
    "outputId": "e3aada34-2db5-45da-d770-f5435a78a797"
   },
   "outputs": [
    {
     "data": {
      "text/plain": [
       "0    24133\n",
       "1    24050\n",
       "Name: target, dtype: int64"
      ]
     },
     "execution_count": 9,
     "metadata": {},
     "output_type": "execute_result"
    }
   ],
   "source": [
    "df_train['target'].value_counts()"
   ]
  },
  {
   "cell_type": "code",
   "execution_count": 10,
   "metadata": {},
   "outputs": [
    {
     "name": "stdout",
     "output_type": "stream",
     "text": [
      "MAX: 1369\n",
      "MIN: 11\n"
     ]
    },
    {
     "data": {
      "text/plain": [
       "<AxesSubplot: ylabel='Frequency'>"
      ]
     },
     "execution_count": 10,
     "metadata": {},
     "output_type": "execute_result"
    },
    {
     "data": {
      "image/png": "[encoded data removed]",
      "text/plain": [
       "<Figure size 432x288 with 1 Axes>"
      ]
     },
     "metadata": {
      "needs_background": "light"
     },
     "output_type": "display_data"
    }
   ],
   "source": [
    "count_words = df_train.review.apply(count_words)\n",
    "print(f\"MAX: {count_words.max()}\")\n",
    "print(f\"MIN: {count_words.min()}\")\n",
    "count_words.plot.hist()"
   ]
  },
  {
   "cell_type": "code",
   "execution_count": 11,
   "metadata": {},
   "outputs": [],
   "source": [
    "df_train.to_csv(\"../data/train.csv\")"
   ]
  },
  {
   "cell_type": "markdown",
   "metadata": {
    "id": "cG1-NJUD_Ab2"
   },
   "source": [
    "# Model"
   ]
  },
  {
   "cell_type": "code",
   "execution_count": 12,
   "metadata": {
    "colab": {
     "base_uri": "https://localhost:8080/"
    },
    "executionInfo": {
     "elapsed": 411,
     "status": "ok",
     "timestamp": 1673893777110,
     "user": {
      "displayName": "Maximiliano Agustin Ulibarrie",
      "userId": "09860801345218377237"
     },
     "user_tz": 180
    },
    "id": "1T-sOBfl-WYZ",
    "outputId": "692afb1b-9bca-447a-f530-0bc5552edde4"
   },
   "outputs": [
    {
     "name": "stdout",
     "output_type": "stream",
     "text": [
      "cpu\n"
     ]
    }
   ],
   "source": [
    "# Initialize\n",
    "RANDOM_SEED = 42\n",
    "MAX_LEN = 300\n",
    "BATCH_SIZE = 16\n",
    "NCLASSES = 2\n",
    "\n",
    "np.random.seed(RANDOM_SEED)\n",
    "torch.manual_seed(RANDOM_SEED)\n",
    "device = torch.device('cuda:0' if torch.cuda.is_available() else 'cpu')\n",
    "print(device)"
   ]
  },
  {
   "cell_type": "code",
   "execution_count": 13,
   "metadata": {
    "executionInfo": {
     "elapsed": 951,
     "status": "ok",
     "timestamp": 1673893780632,
     "user": {
      "displayName": "Maximiliano Agustin Ulibarrie",
      "userId": "09860801345218377237"
     },
     "user_tz": 180
    },
    "id": "o8r9LJWRJ65K"
   },
   "outputs": [],
   "source": [
    "# TOKENIZE\n",
    "# https://huggingface.co/dccuchile/bert-base-spanish-wwm-cased\n",
    "# PRE_TRAINED_MODEL_NAME = 'bert-base-cased'\n",
    "PRE_TRAINED_MODEL_NAME = 'dccuchile/bert-base-spanish-wwm-cased'\n",
    "tokenizer = BertTokenizer.from_pretrained(PRE_TRAINED_MODEL_NAME)"
   ]
  },
  {
   "cell_type": "code",
   "execution_count": 14,
   "metadata": {
    "colab": {
     "base_uri": "https://localhost:8080/"
    },
    "executionInfo": {
     "elapsed": 610,
     "status": "ok",
     "timestamp": 1673893584484,
     "user": {
      "displayName": "Maximiliano Agustin Ulibarrie",
      "userId": "09860801345218377237"
     },
     "user_tz": 180
    },
    "id": "IltvpDZfKdDQ",
    "outputId": "e4e135ec-656a-43b0-fd31-1112a4ea1f7a"
   },
   "outputs": [
    {
     "name": "stdout",
     "output_type": "stream",
     "text": [
      "Phrase: es muy buena\n",
      "Tokens: ['es', 'muy', 'buena']\n",
      "Tokens ids: [1058, 1456, 2667]\n"
     ]
    }
   ],
   "source": [
    "sample_txt = \"es muy buena\"\n",
    "tokens = tokenizer.tokenize(sample_txt)\n",
    "token_ids = tokenizer.convert_tokens_to_ids(tokens)\n",
    "\n",
    "print(f'Phrase: {sample_txt}')\n",
    "print(f'Tokens: {tokens}')\n",
    "print(f'Tokens ids: {token_ids}')"
   ]
  },
  {
   "cell_type": "code",
   "execution_count": 15,
   "metadata": {
    "colab": {
     "base_uri": "https://localhost:8080/",
     "height": 206
    },
    "executionInfo": {
     "elapsed": 484,
     "status": "ok",
     "timestamp": 1673893588088,
     "user": {
      "displayName": "Maximiliano Agustin Ulibarrie",
      "userId": "09860801345218377237"
     },
     "user_tz": 180
    },
    "id": "zRvDFgts9Aj1",
    "outputId": "9093db14-d023-4b5a-9c91-2d4fe72b55fe"
   },
   "outputs": [
    {
     "data": {
      "text/html": [
       "<div>\n",
       "<style scoped>\n",
       "    .dataframe tbody tr th:only-of-type {\n",
       "        vertical-align: middle;\n",
       "    }\n",
       "\n",
       "    .dataframe tbody tr th {\n",
       "        vertical-align: top;\n",
       "    }\n",
       "\n",
       "    .dataframe thead th {\n",
       "        text-align: right;\n",
       "    }\n",
       "</style>\n",
       "<table border=\"1\" class=\"dataframe\">\n",
       "  <thead>\n",
       "    <tr style=\"text-align: right;\">\n",
       "      <th></th>\n",
       "      <th>text</th>\n",
       "      <th>tokens</th>\n",
       "    </tr>\n",
       "  </thead>\n",
       "  <tbody>\n",
       "    <tr>\n",
       "      <th>0</th>\n",
       "      <td>LA PELÍCULA EN SÍ ES ABSOLUTAMENTE BRILLANTE, ...</td>\n",
       "      <td>[LA, PEL, ##Í, ##CUL, ##A, EN, S, ##Í, ES, AB,...</td>\n",
       "    </tr>\n",
       "    <tr>\n",
       "      <th>1</th>\n",
       "      <td>HAMLET ES, DE LEJOS, MI FAVORITA DE TODAS LAS ...</td>\n",
       "      <td>[HA, ##M, ##LE, ##T, ES, ,, DE, LE, ##J, ##OS,...</td>\n",
       "    </tr>\n",
       "    <tr>\n",
       "      <th>2</th>\n",
       "      <td>BARBARA STANWYCK COMO UNA VERDADERA GALLETA, U...</td>\n",
       "      <td>[BAR, ##BA, ##RA, ST, ##AN, ##W, ##Y, ##C, ##K...</td>\n",
       "    </tr>\n",
       "    <tr>\n",
       "      <th>3</th>\n",
       "      <td>TRES SARGENTOS EN EL EJÉRCITO BRITÁNICO ESTACI...</td>\n",
       "      <td>[TR, ##ES, SA, ##R, ##GE, ##N, ##TOS, EN, EL, ...</td>\n",
       "    </tr>\n",
       "    <tr>\n",
       "      <th>4</th>\n",
       "      <td>UN CADETE DEL EJÉRCITO EGOCÉNTRICO, LLEGA A WE...</td>\n",
       "      <td>[UN, CAD, ##ET, ##E, DEL, E, ##J, ##É, ##RC, #...</td>\n",
       "    </tr>\n",
       "  </tbody>\n",
       "</table>\n",
       "</div>"
      ],
      "text/plain": [
       "                                                text  \\\n",
       "0  LA PELÍCULA EN SÍ ES ABSOLUTAMENTE BRILLANTE, ...   \n",
       "1  HAMLET ES, DE LEJOS, MI FAVORITA DE TODAS LAS ...   \n",
       "2  BARBARA STANWYCK COMO UNA VERDADERA GALLETA, U...   \n",
       "3  TRES SARGENTOS EN EL EJÉRCITO BRITÁNICO ESTACI...   \n",
       "4  UN CADETE DEL EJÉRCITO EGOCÉNTRICO, LLEGA A WE...   \n",
       "\n",
       "                                              tokens  \n",
       "0  [LA, PEL, ##Í, ##CUL, ##A, EN, S, ##Í, ES, AB,...  \n",
       "1  [HA, ##M, ##LE, ##T, ES, ,, DE, LE, ##J, ##OS,...  \n",
       "2  [BAR, ##BA, ##RA, ST, ##AN, ##W, ##Y, ##C, ##K...  \n",
       "3  [TR, ##ES, SA, ##R, ##GE, ##N, ##TOS, EN, EL, ...  \n",
       "4  [UN, CAD, ##ET, ##E, DEL, E, ##J, ##É, ##RC, #...  "
      ]
     },
     "execution_count": 15,
     "metadata": {},
     "output_type": "execute_result"
    }
   ],
   "source": [
    "samples = df_train.sample(5).review\n",
    "sample_df = pd.DataFrame()\n",
    "sample_df['text'] = samples.to_list()\n",
    "sample_df['tokens'] = sample_df.text.apply(lambda x : tokenizer.tokenize(x))\n",
    "\n",
    "sample_df"
   ]
  },
  {
   "cell_type": "code",
   "execution_count": 16,
   "metadata": {
    "executionInfo": {
     "elapsed": 415,
     "status": "ok",
     "timestamp": 1673893590910,
     "user": {
      "displayName": "Maximiliano Agustin Ulibarrie",
      "userId": "09860801345218377237"
     },
     "user_tz": 180
    },
    "id": "jIANvmhsLwx4"
   },
   "outputs": [],
   "source": [
    "# Prepare input for BERT \n",
    "encoding_tmp = tokenizer.encode_plus(\n",
    "    sample_txt,\n",
    "    max_length = 20,\n",
    "    truncation = True,\n",
    "    add_special_tokens = True,\n",
    "    return_token_type_ids = False,\n",
    "    padding = 'max_length',\n",
    "    return_attention_mask = True,\n",
    "    return_tensors = 'pt'\n",
    ")"
   ]
  },
  {
   "cell_type": "code",
   "execution_count": 17,
   "metadata": {
    "colab": {
     "base_uri": "https://localhost:8080/"
    },
    "executionInfo": {
     "elapsed": 428,
     "status": "ok",
     "timestamp": 1673893593586,
     "user": {
      "displayName": "Maximiliano Agustin Ulibarrie",
      "userId": "09860801345218377237"
     },
     "user_tz": 180
    },
    "id": "KJQvLxXFO11K",
    "outputId": "b215fad1-2a71-4457-fadd-85e73891b4ab"
   },
   "outputs": [
    {
     "data": {
      "text/plain": [
       "{'input_ids': tensor([[   4, 1058, 1456, 2667,    5,    1,    1,    1,    1,    1,    1,    1,\n",
       "            1,    1,    1,    1,    1,    1,    1,    1]]), 'attention_mask': tensor([[1, 1, 1, 1, 1, 0, 0, 0, 0, 0, 0, 0, 0, 0, 0, 0, 0, 0, 0, 0]])}"
      ]
     },
     "execution_count": 17,
     "metadata": {},
     "output_type": "execute_result"
    }
   ],
   "source": [
    "encoding_tmp"
   ]
  },
  {
   "cell_type": "code",
   "execution_count": 18,
   "metadata": {
    "colab": {
     "base_uri": "https://localhost:8080/"
    },
    "executionInfo": {
     "elapsed": 9,
     "status": "ok",
     "timestamp": 1673893595088,
     "user": {
      "displayName": "Maximiliano Agustin Ulibarrie",
      "userId": "09860801345218377237"
     },
     "user_tz": 180
    },
    "id": "ha9Exq93PoNm",
    "outputId": "c089b520-a7cf-480a-cb52-cf192e1dd003"
   },
   "outputs": [
    {
     "name": "stdout",
     "output_type": "stream",
     "text": [
      "['[CLS]', 'es', 'muy', 'buena', '[SEP]', '[PAD]', '[PAD]', '[PAD]', '[PAD]', '[PAD]', '[PAD]', '[PAD]', '[PAD]', '[PAD]', '[PAD]', '[PAD]', '[PAD]', '[PAD]', '[PAD]', '[PAD]']\n"
     ]
    }
   ],
   "source": [
    "print(tokenizer.convert_ids_to_tokens(encoding_tmp.input_ids[0]))"
   ]
  },
  {
   "cell_type": "code",
   "execution_count": 19,
   "metadata": {
    "executionInfo": {
     "elapsed": 479,
     "status": "ok",
     "timestamp": 1673893787258,
     "user": {
      "displayName": "Maximiliano Agustin Ulibarrie",
      "userId": "09860801345218377237"
     },
     "user_tz": 180
    },
    "id": "KQQTMaJNCgRT"
   },
   "outputs": [],
   "source": [
    "# DATASET\n",
    "\n",
    "class ReviewsDataset(Dataset):\n",
    "\n",
    "    def __init__(self, reviews, target, tokenizer, max_len):\n",
    "        self.reviews = reviews\n",
    "        self.target = target\n",
    "        self.tokenizer = tokenizer\n",
    "        self.max_len = max_len\n",
    "\n",
    "    def __len__(self):\n",
    "        return len(self.reviews)\n",
    "\n",
    "    def __getitem__(self, item):\n",
    "        review = str(self.reviews[item])\n",
    "        target = self.target[item]\n",
    "\n",
    "        encoding = tokenizer.encode_plus(\n",
    "            review,\n",
    "            max_length = self.max_len,\n",
    "            truncation = True,\n",
    "            add_special_tokens = True,\n",
    "            return_token_type_ids = False,\n",
    "            padding = 'max_length',\n",
    "            return_attention_mask = True,\n",
    "            return_tensors = 'pt'\n",
    "        )\n",
    "\n",
    "        return {\n",
    "            'review': review,\n",
    "            'input_ids': encoding['input_ids'].flatten(),\n",
    "            'attention_mask': encoding['attention_mask'].flatten(),\n",
    "            'target': torch.tensor(target, dtype=torch.long)\n",
    "        }"
   ]
  },
  {
   "cell_type": "code",
   "execution_count": 20,
   "metadata": {
    "executionInfo": {
     "elapsed": 4,
     "status": "ok",
     "timestamp": 1673893790326,
     "user": {
      "displayName": "Maximiliano Agustin Ulibarrie",
      "userId": "09860801345218377237"
     },
     "user_tz": 180
    },
    "id": "asJ6Y1c_J99y"
   },
   "outputs": [],
   "source": [
    "# DATA LOADER\n",
    "\n",
    "def data_loader(df, tokenizer, max_len, batch_size):\n",
    "\n",
    "    dataset = ReviewsDataset(\n",
    "        reviews = df.review.to_numpy(),\n",
    "        target = df.target.to_numpy(),\n",
    "        tokenizer = tokenizer,\n",
    "        max_len = max_len\n",
    "    )\n",
    "\n",
    "    return DataLoader(dataset, batch_size=batch_size, num_workers=4)"
   ]
  },
  {
   "cell_type": "code",
   "execution_count": 40,
   "metadata": {
    "executionInfo": {
     "elapsed": 7,
     "status": "ok",
     "timestamp": 1673893793122,
     "user": {
      "displayName": "Maximiliano Agustin Ulibarrie",
      "userId": "09860801345218377237"
     },
     "user_tz": 180
    },
    "id": "Ray6-EtoK4A7"
   },
   "outputs": [],
   "source": [
    "# split data and create data loaders\n",
    "x_train, x_test = train_test_split(df_train, test_size=0.2, random_state=RANDOM_SEED)\n",
    "\n",
    "train_data_loader = data_loader(x_train, tokenizer, MAX_LEN, BATCH_SIZE)\n",
    "test_data_loader = data_loader(x_test, tokenizer, MAX_LEN, BATCH_SIZE)"
   ]
  },
  {
   "cell_type": "code",
   "execution_count": 41,
   "metadata": {
    "executionInfo": {
     "elapsed": 387,
     "status": "ok",
     "timestamp": 1673893796237,
     "user": {
      "displayName": "Maximiliano Agustin Ulibarrie",
      "userId": "09860801345218377237"
     },
     "user_tz": 180
    },
    "id": "LTKM-6CILsq0"
   },
   "outputs": [],
   "source": [
    "# MODEL!\n",
    "\n",
    "class BETOReviewsClassifier(nn.Module):\n",
    "\n",
    "    def __init__(self, n_classes):\n",
    "        super(BETOReviewsClassifier, self).__init__()\n",
    "        self.bert = BertModel.from_pretrained(PRE_TRAINED_MODEL_NAME)\n",
    "        self.drop = nn.Dropout(p=0.3)\n",
    "        self.relu = nn.ReLU()\n",
    "        self.fc = nn.Linear(self.bert.config.hidden_size, n_classes)\n",
    "        self.softmax = nn.Softmax(dim=1)\n",
    "\n",
    "    def forward(self, input_ids, attention_mask):\n",
    "        bert_output = self.bert(\n",
    "            input_ids = input_ids,\n",
    "            attention_mask = attention_mask\n",
    "        )\n",
    "        cls_output = bert_output[1] # passing the pooler_output/token classification\n",
    "        t = self.drop(cls_output)\n",
    "        t = self.relu(t)\n",
    "        t = self.fc(t)\n",
    "        output = self.softmax(t)\n",
    "\n",
    "        return output"
   ]
  },
  {
   "cell_type": "code",
   "execution_count": 23,
   "metadata": {
    "colab": {
     "base_uri": "https://localhost:8080/"
    },
    "executionInfo": {
     "elapsed": 2113,
     "status": "ok",
     "timestamp": 1673893801632,
     "user": {
      "displayName": "Maximiliano Agustin Ulibarrie",
      "userId": "09860801345218377237"
     },
     "user_tz": 180
    },
    "id": "o73dJ29ExH8a",
    "outputId": "4d5cd15f-f601-496a-e1b2-1640cfbe8a1b"
   },
   "outputs": [
    {
     "name": "stderr",
     "output_type": "stream",
     "text": [
      "Some weights of the model checkpoint at dccuchile/bert-base-spanish-wwm-cased were not used when initializing BertModel: ['cls.predictions.transform.LayerNorm.bias', 'cls.predictions.decoder.weight', 'cls.predictions.decoder.bias', 'cls.predictions.transform.dense.weight', 'cls.predictions.transform.dense.bias', 'cls.predictions.transform.LayerNorm.weight', 'cls.predictions.bias']\n",
      "- This IS expected if you are initializing BertModel from the checkpoint of a model trained on another task or with another architecture (e.g. initializing a BertForSequenceClassification model from a BertForPreTraining model).\n",
      "- This IS NOT expected if you are initializing BertModel from the checkpoint of a model that you expect to be exactly identical (initializing a BertForSequenceClassification model from a BertForSequenceClassification model).\n",
      "Some weights of BertModel were not initialized from the model checkpoint at dccuchile/bert-base-spanish-wwm-cased and are newly initialized: ['bert.pooler.dense.weight', 'bert.pooler.dense.bias']\n",
      "You should probably TRAIN this model on a down-stream task to be able to use it for predictions and inference.\n"
     ]
    }
   ],
   "source": [
    "model = BETOReviewsClassifier(NCLASSES)\n",
    "model = model.to(device)"
   ]
  },
  {
   "cell_type": "code",
   "execution_count": null,
   "metadata": {
    "id": "1YhoSm5Zx5uA"
   },
   "outputs": [],
   "source": [
    "# print(model)"
   ]
  },
  {
   "cell_type": "code",
   "execution_count": 42,
   "metadata": {
    "executionInfo": {
     "elapsed": 396,
     "status": "ok",
     "timestamp": 1673893805536,
     "user": {
      "displayName": "Maximiliano Agustin Ulibarrie",
      "userId": "09860801345218377237"
     },
     "user_tz": 180
    },
    "id": "szpF71ciyE0d"
   },
   "outputs": [],
   "source": [
    "# Training setting\n",
    "\n",
    "EPOCHS = 1\n",
    "optimizer = AdamW(model.parameters(), lr=2e-5, correct_bias=False)\n",
    "total_steps = len(train_data_loader) * EPOCHS\n",
    "scheduler = get_linear_schedule_with_warmup(\n",
    "    optimizer,\n",
    "    num_warmup_steps = 0,\n",
    "    num_training_steps = total_steps\n",
    ")\n",
    "loss_fn = nn.CrossEntropyLoss().to(device)"
   ]
  },
  {
   "cell_type": "code",
   "execution_count": 43,
   "metadata": {
    "executionInfo": {
     "elapsed": 399,
     "status": "ok",
     "timestamp": 1673893809353,
     "user": {
      "displayName": "Maximiliano Agustin Ulibarrie",
      "userId": "09860801345218377237"
     },
     "user_tz": 180
    },
    "id": "oXWXF80Uzhi8"
   },
   "outputs": [],
   "source": [
    "# Training and validation iteration functions\n",
    "\n",
    "def train_model(model, data_loader, loss_fn, optimizer, device, scheduler, n_examples):\n",
    "    print(\"### Training Model ###\")\n",
    "    model = model.train()\n",
    "    losses = []\n",
    "    correct_predictions = 0\n",
    "\n",
    "    for batch in tqdm(data_loader, total=len(data_loader)):\n",
    "        input_ids = batch['input_ids'].to(device)\n",
    "        attention_mask = batch['attention_mask'].to(device)\n",
    "        target = batch['target'].to(device)\n",
    "\n",
    "        outputs = model(input_ids = input_ids, attention_mask = attention_mask)\n",
    "        _, preds = torch.max(outputs, dim=1)\n",
    "        loss = loss_fn(outputs, target)\n",
    "        correct_predictions += torch.sum(preds == target)\n",
    "        losses.append(loss.item())\n",
    "        loss.backward()\n",
    "        nn.utils.clip_grad_norm_(model.parameters(), max_norm=1.0)\n",
    "        optimizer.step()\n",
    "        scheduler.step()\n",
    "        optimizer.zero_grad()\n",
    "\n",
    "    return correct_predictions.double() / n_examples, np.mean(losses)\n",
    "\n",
    "\n",
    "def eval_model(model, data_loader, loss_fn, device, n_examples):\n",
    "    print(\"### Evaluate Model ###\")\n",
    "    model = model.eval()\n",
    "    losses = []\n",
    "    correct_predictions = 0\n",
    "\n",
    "    with torch.no_grad():\n",
    "        for batch in tqdm(data_loader, total=len(data_loader)):\n",
    "            input_ids = batch['input_ids'].to(device)\n",
    "            attention_mask = batch['attention_mask'].to(device)\n",
    "            target = batch['target'].to(device)\n",
    "\n",
    "            outputs = model(input_ids = input_ids, attention_mask = attention_mask)\n",
    "            _, preds = torch.max(outputs, dim=1)\n",
    "            loss = loss_fn(outputs, target)\n",
    "            correct_predictions += torch.sum(preds == target)\n",
    "            losses.append(loss.item())\n",
    "\n",
    "    return correct_predictions.double() / n_examples, np.mean(losses)"
   ]
  },
  {
   "cell_type": "markdown",
   "metadata": {
    "id": "CW8BjaSO-E36"
   },
   "source": [
    "# Running Model"
   ]
  },
  {
   "cell_type": "code",
   "execution_count": null,
   "metadata": {
    "colab": {
     "base_uri": "https://localhost:8080/",
     "height": 235
    },
    "executionInfo": {
     "elapsed": 511,
     "status": "error",
     "timestamp": 1673894049438,
     "user": {
      "displayName": "Maximiliano Agustin Ulibarrie",
      "userId": "09860801345218377237"
     },
     "user_tz": 180
    },
    "id": "y31qyu4DBiZe",
    "outputId": "6d8ec688-bd6c-4201-db7e-5512332391c8"
   },
   "outputs": [
    {
     "name": "stdout",
     "output_type": "stream",
     "text": [
      "Epoch 1 out of 1\n",
      "---------------------------------\n",
      "### Training Model ###\n"
     ]
    },
    {
     "name": "stderr",
     "output_type": "stream",
     "text": [
      "\r",
      "  0%|                                                                                                                                                 | 0/2 [00:00<?, ?it/s]"
     ]
    }
   ],
   "source": [
    "# TRAIN!\n",
    "\n",
    "start_time = time.time()\n",
    "\n",
    "for epoch in range(EPOCHS):\n",
    "    start_batch_time = time.time()\n",
    "\n",
    "    print(f'Epoch {epoch+1} out of {EPOCHS}')\n",
    "    print('---------------------------------')\n",
    "    train_acc, train_loss = train_model(\n",
    "      model, train_data_loader, loss_fn, optimizer, device, scheduler, len(x_train)\n",
    "    )\n",
    "    test_acc, test_loss = eval_model(\n",
    "      model, test_data_loader, loss_fn, device, len(x_test)\n",
    "    )\n",
    "    end_batch_time = time.time()\n",
    "    process_batch_time = round((end_batch_time - start_batch_time) / 60, 2)\n",
    "\n",
    "    print(f'Training loss: {train_loss}, accuracy: {train_acc}')\n",
    "    print(f'Validation loss: {test_loss}, accuracy: {test_acc}')\n",
    "    print(f'Process batch time: {process_batch_time} minutes.')\n",
    "    print('')\n",
    "\n",
    "end_time = time.time()\n",
    "process_time = round((end_time - start_time) / 60, 2)\n",
    "\n",
    "print(f'Fitting model with {EPOCHS} epochs took {process_time} minutes.')"
   ]
  },
  {
   "cell_type": "code",
   "execution_count": null,
   "metadata": {
    "id": "qJzl6mfZL3NQ"
   },
   "outputs": [],
   "source": [
    "torch.save(model, '../models/model_test.pth')"
   ]
  },
  {
   "cell_type": "markdown",
   "metadata": {
    "id": "4vWFf2njL7Go"
   },
   "source": [
    "# Testin model"
   ]
  },
  {
   "cell_type": "code",
   "execution_count": null,
   "metadata": {
    "id": "HFQeNXTDPb3S"
   },
   "outputs": [],
   "source": [
    "model2 = torch.load('../models/model_test.pth')"
   ]
  },
  {
   "cell_type": "code",
   "execution_count": 10,
   "metadata": {},
   "outputs": [],
   "source": [
    "target_map = {\n",
    "    0: \"Negativo\",\n",
    "    1: \"Positivo\"\n",
    "}"
   ]
  },
  {
   "cell_type": "code",
   "execution_count": 11,
   "metadata": {
    "id": "Rm70KLf5WzMv"
   },
   "outputs": [],
   "source": [
    "def classify_review(review):\n",
    "    encoding_review = tokenizer.encode_plus(\n",
    "    review,\n",
    "    max_length = MAX_LEN,\n",
    "    truncation = True,\n",
    "    add_special_tokens = True,\n",
    "    return_token_type_ids = False,\n",
    "    padding = 'max_length',\n",
    "    return_attention_mask = True,\n",
    "    return_tensors = 'pt'\n",
    "    )\n",
    "\n",
    "    input_ids = encoding_review['input_ids'].to(device)\n",
    "    attention_mask = encoding_review['attention_mask'].to(device)\n",
    "    output = model2(input_ids, attention_mask) # LOADED MODEL!\n",
    "    prediction = torch.argmax(output.flatten()).item()\n",
    "\n",
    "    return target_map[prediction]"
   ]
  },
  {
   "cell_type": "code",
   "execution_count": 12,
   "metadata": {
    "colab": {
     "base_uri": "https://localhost:8080/",
     "height": 35
    },
    "executionInfo": {
     "elapsed": 352,
     "status": "ok",
     "timestamp": 1673645680686,
     "user": {
      "displayName": "Maximiliano Agustin Ulibarrie",
      "userId": "09860801345218377237"
     },
     "user_tz": 180
    },
    "id": "R3v51NPaYCvm",
    "outputId": "9abae2d3-1229-4aac-e728-8ed6759ca961"
   },
   "outputs": [
    {
     "data": {
      "text/plain": [
       "'Positivo'"
      ]
     },
     "execution_count": 12,
     "metadata": {},
     "output_type": "execute_result"
    }
   ],
   "source": [
    "classify_review(\"Muy buena pelicula\")"
   ]
  }
 ],
 "metadata": {
  "accelerator": "GPU",
  "colab": {
   "authorship_tag": "ABX9TyM2uTxpwesPZclS9PkIamEM",
   "provenance": []
  },
  "gpuClass": "standard",
  "kernelspec": {
   "display_name": "Python 3 (ipykernel)",
   "language": "python",
   "name": "python3"
  },
  "language_info": {
   "codemirror_mode": {
    "name": "ipython",
    "version": 3
   },
   "file_extension": ".py",
   "mimetype": "text/x-python",
   "name": "python",
   "nbconvert_exporter": "python",
   "pygments_lexer": "ipython3",
   "version": "3.10.4"
  },
  "vscode": {
   "interpreter": {
    "hash": "916dbcbb3f70747c44a77c7bcd40155683ae19c65e1c03b4aa3499c5328201f1"
   }
  }
 },
 "nbformat": 4,
 "nbformat_minor": 1
}
